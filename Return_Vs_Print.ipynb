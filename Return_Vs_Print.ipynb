{
  "nbformat": 4,
  "nbformat_minor": 0,
  "metadata": {
    "colab": {
      "provenance": [],
      "authorship_tag": "ABX9TyNRq8gKrUceHWOBLEow5/NG",
      "include_colab_link": true
    },
    "kernelspec": {
      "name": "python3",
      "display_name": "Python 3"
    },
    "language_info": {
      "name": "python"
    }
  },
  "cells": [
    {
      "cell_type": "markdown",
      "metadata": {
        "id": "view-in-github",
        "colab_type": "text"
      },
      "source": [
        "<a href=\"https://colab.research.google.com/github/SamuelMadimi/Python-/blob/main/Return_Vs_Print.ipynb\" target=\"_parent\"><img src=\"https://colab.research.google.com/assets/colab-badge.svg\" alt=\"Open In Colab\"/></a>"
      ]
    },
    {
      "cell_type": "code",
      "source": [
        "# This is defining Definition:\n",
        "\n",
        "def add(x,y):\n",
        "  print (x+y)\n",
        "\n",
        "# THis is how we call the defined definition -> Argument\n",
        "\n",
        "add(5,7)   # Output = 12"
      ],
      "metadata": {
        "colab": {
          "base_uri": "https://localhost:8080/"
        },
        "id": "z29JJwYuC4Cj",
        "outputId": "4eac47fc-5c1d-49d1-88ba-db3634a71a00"
      },
      "execution_count": 2,
      "outputs": [
        {
          "output_type": "stream",
          "name": "stdout",
          "text": [
            "12\n"
          ]
        }
      ]
    },
    {
      "cell_type": "code",
      "source": [
        "# This is defining Definition:\n",
        "\n",
        "def add(x,y):\n",
        "  return (x+y)\n",
        "\n",
        "# THis is how we call the defined definition -> Argument\n",
        "add(5,7)   # Output = 12"
      ],
      "metadata": {
        "colab": {
          "base_uri": "https://localhost:8080/"
        },
        "id": "-ktPizrUC300",
        "outputId": "032c6c5e-c1b6-4046-bd49-5221a961a6e5"
      },
      "execution_count": 14,
      "outputs": [
        {
          "output_type": "execute_result",
          "data": {
            "text/plain": [
              "12"
            ]
          },
          "metadata": {},
          "execution_count": 14
        }
      ]
    },
    {
      "cell_type": "markdown",
      "source": [
        "In both the above pieces, the output is same. But look at the below pieces for the fiffernce between 'return' and 'print'"
      ],
      "metadata": {
        "id": "8cTK14JdEBmn"
      }
    },
    {
      "cell_type": "code",
      "source": [
        "def add(x, y):\n",
        "    return (x + y)\n",
        "\n",
        "result = add(2, 3)\n",
        "\n",
        "print(result)\n",
        "# based on the arguments, the code returns a value and this is not visible. since we desined a varioable 'result' , the result value is stored in the variable  so that, I can\n",
        "# use the returned value in my code in my program anywhere. \n",
        "\n",
        "# I can even print the variable to see the returned value."
      ],
      "metadata": {
        "colab": {
          "base_uri": "https://localhost:8080/"
        },
        "id": "8ItlCVTNC3lC",
        "outputId": "71cfa43a-d71f-4389-fed7-27aaaad14bd1"
      },
      "execution_count": 13,
      "outputs": [
        {
          "output_type": "stream",
          "name": "stdout",
          "text": [
            "5\n"
          ]
        }
      ]
    },
    {
      "cell_type": "code",
      "source": [
        "def add(x, y):\n",
        "    print (x + y) # Gives out value ' 5 '\n",
        "\n",
        "\n",
        "result = add(2, 3)  # But here, we are callinhg the function which do not have 'return statement' Since the functions return nothing, printing it gives out 'None'\n",
        "                    # Therefore, 'None' is the value assigned to the variable 'result' The below statement prints 'None'\n",
        "\n",
        "print(result)   # This statment is the reason for 'None'\n",
        "\n",
        "# When we call a python function that doesn't have a 'return' statement, the value returned will be 'None'."
      ],
      "metadata": {
        "colab": {
          "base_uri": "https://localhost:8080/"
        },
        "id": "oPY56EV6PpBz",
        "outputId": "17bfad53-38e5-4220-f981-c1e368f68649"
      },
      "execution_count": 22,
      "outputs": [
        {
          "output_type": "stream",
          "name": "stdout",
          "text": [
            "5\n",
            "None\n"
          ]
        }
      ]
    },
    {
      "cell_type": "code",
      "source": [
        "def add(x, y):\n",
        "    print (x + y) # Gives out value ' 5 '\n",
        "  \n",
        "add(2,3) # Here we are calling the function directly (or using in a program) and printing the value. But not assigning the value to a variable. so it doesnt return 'None'"
      ],
      "metadata": {
        "colab": {
          "base_uri": "https://localhost:8080/"
        },
        "id": "7tWmLMxzTxbh",
        "outputId": "b5078d0f-e44c-4b2a-f7df-77aba12c5796"
      },
      "execution_count": 24,
      "outputs": [
        {
          "output_type": "stream",
          "name": "stdout",
          "text": [
            "5\n"
          ]
        }
      ]
    }
  ]
}